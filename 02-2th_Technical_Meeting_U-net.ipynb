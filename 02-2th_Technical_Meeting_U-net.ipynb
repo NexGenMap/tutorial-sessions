{
 "cells": [
  {
   "cell_type": "markdown",
   "metadata": {},
   "source": [
    "# 2th Technical Meeting - Unet Tutorial"
   ]
  },
  {
   "cell_type": "markdown",
   "metadata": {},
   "source": [
    "This material is part of 2th Technical Meeting of NexGenMap project  [(event website)](https://sites.google.com/view/nextgenmap2reuniao/página-inicial).\n",
    "\n",
    "The NexGenMap is a project that aims establish the next generation of land use and land cover mapping and monitoring tools, using high-res images (i.e. Planet data), cloud-computing platforms (i.e. Google Earth Engine and Google Cloud Computing) and machine learning and deep-learning techniques (e.g. Random Forest, U-Net and LSTM)."
   ]
  },
  {
   "cell_type": "markdown",
   "metadata": {},
   "source": [
    "The main goal of this tutorial is run a semantic segmentation deep-learning approach, through U-net, to identify cattle drinking fountains using monthly Planet mosaics of NexGenMap. It's organized:\n",
    "* Data and Libraries\n",
    "* Data Exploration\n",
    "* Standardizing/Normalization\n",
    "* Training dataset\n",
    "* U-net model (train/validation/prediction)"
   ]
  },
  {
   "cell_type": "markdown",
   "metadata": {},
   "source": [
    "## Data and Libraries"
   ]
  },
  {
   "cell_type": "code",
   "execution_count": 1,
   "metadata": {},
   "outputs": [],
   "source": [
    "import nexutil"
   ]
  },
  {
   "cell_type": "code",
   "execution_count": 2,
   "metadata": {},
   "outputs": [],
   "source": [
    "#file_url = 'https://www.lapig.iesa.ufg.br/lapig/nextgenmap-data/tutorial-sessions/02-2th_Technical_Meeting_U-net/input_images.zip'\n",
    "#filename = 'input_images.zip'\n",
    "\n",
    "#nexutil.download_extract_zipfile(file_url, filename)"
   ]
  },
  {
   "cell_type": "code",
   "execution_count": 3,
   "metadata": {},
   "outputs": [],
   "source": [
    "#nexutil.image_info('input_images/SD-22-Z-C-alfa_2-1.tif')"
   ]
  },
  {
   "cell_type": "code",
   "execution_count": 4,
   "metadata": {},
   "outputs": [],
   "source": [
    "#nexutil.vis_image('input_images/SD-22-Z-C-alfa_2-1.tif', bands=[1,2,3])"
   ]
  },
  {
   "cell_type": "code",
   "execution_count": 5,
   "metadata": {},
   "outputs": [],
   "source": [
    "#nexutil.vis_image('input_images/SD-22-Z-C-alfa_2-1.tif', bands=[5,6,7])"
   ]
  },
  {
   "cell_type": "code",
   "execution_count": 6,
   "metadata": {},
   "outputs": [],
   "source": [
    "#nexutil.vis_image('input_images/SD-22-Z-C-alfa_2-1.tif', bands=[8])"
   ]
  },
  {
   "cell_type": "code",
   "execution_count": 7,
   "metadata": {},
   "outputs": [],
   "source": [
    "file_url = 'https://github.com/NexGenMap/dl-semantic-segmentation/archive/master.zip'\n",
    "filename = 'master.zip'\n",
    "\n",
    "#nexutil.download_extract_zipfile(file_url, filename)\n",
    "nexutil.import_repository('dl-semantic-segmentation-master/src/')"
   ]
  },
  {
   "cell_type": "code",
   "execution_count": 8,
   "metadata": {},
   "outputs": [],
   "source": [
    "#%%bash \n",
    "#pip3 install --user psutil"
   ]
  },
  {
   "cell_type": "code",
   "execution_count": 9,
   "metadata": {},
   "outputs": [],
   "source": [
    "import run"
   ]
  },
  {
   "cell_type": "code",
   "execution_count": 10,
   "metadata": {},
   "outputs": [
    {
     "name": "stdout",
     "output_type": "stream",
     "text": [
      "{'seed': 1989, 'learning_rate': 1e-05, 'l2_regularizer': 0.5, 'batch_size': 32, 'nodata_value': -10, 'n_input_bands': 9, 'chip_size': 100, 'n_classes': 2, 'tensorboard_maxoutput': 2, 'num_epochs': 200, 'pad_size': 93, 'dropout_rate': 0.5, 'model_dir': 'logs_bebedouros'}\n"
     ]
    }
   ],
   "source": [
    "print(run.params)"
   ]
  },
  {
   "cell_type": "code",
   "execution_count": 11,
   "metadata": {},
   "outputs": [],
   "source": [
    "img_input_path = 'input_images/SD-22-Z-C-alfa_2-1.tif'\n",
    "img_input_nodata = -10\n",
    "run.params['num_epochs'] = 1\n",
    "#run.train(img_input_path, run.params)"
   ]
  },
  {
   "cell_type": "code",
   "execution_count": 12,
   "metadata": {},
   "outputs": [
    {
     "name": "stdout",
     "output_type": "stream",
     "text": [
      "Reading from cache input_images/SD-22-Z-C-alfa_2-1.npz...\n",
      "Train samples:  124\n",
      "Test samples:  32\n",
      "INFO:tensorflow:Using default config.\n",
      "INFO:tensorflow:Using config: {'_global_id_in_cluster': 0, '_log_step_count_steps': 100, '_keep_checkpoint_every_n_hours': 10000, '_is_chief': True, '_model_dir': 'logs_bebedouros', '_save_summary_steps': 100, '_num_ps_replicas': 0, '_keep_checkpoint_max': 5, '_task_type': 'worker', '_evaluation_master': '', '_task_id': 0, '_num_worker_replicas': 1, '_cluster_spec': <tensorflow.python.training.server_lib.ClusterSpec object at 0x7fd538a7b0f0>, '_save_checkpoints_secs': 600, '_tf_random_seed': None, '_session_config': None, '_save_checkpoints_steps': None, '_service': None, '_master': ''}\n",
      "Evaluating results for image input_images/SD-22-Z-C-alfa_2-1.tif...\n",
      "Saving images in results/train...\n",
      "INFO:tensorflow:Calling model_fn.\n",
      "WARNING:tensorflow:From /usr/lib/python3.5/site-packages/tensorflow/contrib/learn/python/learn/datasets/base.py:198: retry (from tensorflow.contrib.learn.python.learn.datasets.base) is deprecated and will be removed in a future version.\n",
      "Instructions for updating:\n",
      "Use the retry module or similar alternatives.\n",
      "INFO:tensorflow:Done calling model_fn.\n",
      "INFO:tensorflow:Graph was finalized.\n",
      "INFO:tensorflow:Restoring parameters from logs_bebedouros/model.ckpt-5\n",
      "INFO:tensorflow:Running local_init_op.\n",
      "INFO:tensorflow:Done running local_init_op.\n",
      "train accurancy: 0.9810282258064517\n",
      "\n",
      "--------------------------------------------------\n",
      "------------- train METRICS -------------\n",
      "--------------------------------------------------\n",
      "             precision    recall  f1-score   support\n",
      "\n",
      "        0.0       0.99      0.99      0.99   1230654\n",
      "        1.0       0.00      0.00      0.00      9346\n",
      "\n",
      "avg / total       0.98      0.98      0.98   1240000\n",
      "\n",
      "Saving images in results/test...\n",
      "INFO:tensorflow:Calling model_fn.\n",
      "INFO:tensorflow:Done calling model_fn.\n",
      "INFO:tensorflow:Graph was finalized.\n",
      "INFO:tensorflow:Restoring parameters from logs_bebedouros/model.ckpt-5\n",
      "INFO:tensorflow:Running local_init_op.\n",
      "INFO:tensorflow:Done running local_init_op.\n",
      "test accurancy: 0.979428125\n",
      "\n",
      "--------------------------------------------------\n",
      "------------- test METRICS -------------\n",
      "--------------------------------------------------\n",
      "             precision    recall  f1-score   support\n",
      "\n",
      "        0.0       0.99      0.99      0.99    318022\n",
      "        1.0       0.00      0.00      0.00      1978\n",
      "\n",
      "avg / total       0.99      0.98      0.98    320000\n",
      "\n"
     ]
    }
   ],
   "source": [
    "run.evaluate(img_input_path, run.params)"
   ]
  }
 ],
 "metadata": {
  "kernelspec": {
   "display_name": "Python 3",
   "language": "python",
   "name": "python3"
  },
  "language_info": {
   "codemirror_mode": {
    "name": "ipython",
    "version": 3
   },
   "file_extension": ".py",
   "mimetype": "text/x-python",
   "name": "python",
   "nbconvert_exporter": "python",
   "pygments_lexer": "ipython3",
   "version": "3.5.4"
  }
 },
 "nbformat": 4,
 "nbformat_minor": 2
}
