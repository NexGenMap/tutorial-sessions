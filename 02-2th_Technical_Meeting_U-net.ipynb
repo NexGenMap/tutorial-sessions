{
 "cells": [
  {
   "cell_type": "markdown",
   "metadata": {},
   "source": [
    "# 2th Technical Meeting - Unet Tutorial"
   ]
  },
  {
   "cell_type": "markdown",
   "metadata": {},
   "source": [
    "This material is part of 2th Technical Meeting of NexGenMap project  [(event website)](https://sites.google.com/view/nextgenmap2reuniao/página-inicial).\n",
    "\n",
    "The NexGenMap is a project that aims establish the next generation of land use and land cover mapping and monitoring tools, using high-res images (i.e. Planet data), cloud-computing platforms (i.e. Google Earth Engine and Google Cloud Computing) and machine learning and deep-learning techniques (e.g. Random Forest, U-Net and LSTM)."
   ]
  },
  {
   "cell_type": "markdown",
   "metadata": {},
   "source": [
    "The main goal of this tutorial is run a semantic segmentation deep-learning approach, through U-net, to identify cattle drinking fountains using monthly Planet mosaics of NexGenMap. It's organized:\n",
    "* Data and Libraries\n",
    "* Data Exploration and Normalization\n",
    "* U-net model (train/validation/prediction)"
   ]
  },
  {
   "cell_type": "markdown",
   "metadata": {},
   "source": [
    "## Data and Libraries\n",
    "\n",
    "All routines that will be used are in the module [nexutil](nexutil.py) and in the repository [dl-semantic-segmentation](https://github.com/NexGenMap/dl-semantic-segmentation). They have follow dependencies:\n",
    "* [Gdal](https://pypi.org/project/GDAL/): manipulating geospatial raster data;\n",
    "* [Numpy](http://www.numpy.org/): image computing;\n",
    "* [Tensorflow](https://www.tensorflow.org/): deep-learning implementation;\n",
    "* [Scikit-learn](http://scikit-learn.org): machine-learning support;\n",
    "* [Scikit-image](http://scikit-image.org/): image histogram equalization;\n",
    "* [Matplotlib](https://matplotlib.org/): image and chart visualization;\n",
    "* [Seaborn](https://seaborn.pydata.org/): confusion matrix visualization;\n",
    "* [Psutil](https://psutil.readthedocs.io/en/latest/): python system and process utilities\n",
    "* [Rios](https://bitbucket.org/chchrsc/rios/overview): raster I/O Simplification"
   ]
  },
  {
   "cell_type": "markdown",
   "metadata": {},
   "source": [
    "Please install them using an specific OS commands or PIP:"
   ]
  },
  {
   "cell_type": "code",
   "execution_count": null,
   "metadata": {},
   "outputs": [],
   "source": [
    "%%bash\n",
    "pip3 install --user numpy\n",
    "pip3 install --user tensorflow-gpu==1.7.0 \n",
    "pip3 install --user scikit-image\n",
    "pip3 install --user scikit-learn \n",
    "pip3 install --user matplotlib \n",
    "pip3 install --user seaborn\n",
    "pip3 install --user psutil\n",
    "pip3 install --user download https://bitbucket.org/chchrsc/rios/downloads/rios-1.4.5.tar.gz"
   ]
  },
  {
   "cell_type": "markdown",
   "metadata": {},
   "source": [
    "Import the [nexutil](nexutil.py) module"
   ]
  },
  {
   "cell_type": "code",
   "execution_count": 1,
   "metadata": {},
   "outputs": [],
   "source": [
    "import nexutil"
   ]
  },
  {
   "cell_type": "markdown",
   "metadata": {},
   "source": [
    "...and now the repository [dl-semantic-segmentation](https://github.com/NexGenMap/dl-semantic-segmentation)."
   ]
  },
  {
   "cell_type": "code",
   "execution_count": 2,
   "metadata": {},
   "outputs": [],
   "source": [
    "file_url = 'https://github.com/NexGenMap/dl-semantic-segmentation/archive/master.zip'\n",
    "filename = 'master.zip'\n",
    "\n",
    "#nexutil.download_extract_zipfile(file_url, filename)\n",
    "nexutil.import_repository('dl-semantic-segmentation-master/src/')"
   ]
  },
  {
   "cell_type": "markdown",
   "metadata": {},
   "source": [
    "We will work with 2 files (SD-22-Z-C-alfa_2-1.tif, SD-22-Z-C-alfa_2-2.tif), with 30 km2 each, derived from monthly mosaic of NexGenMap:\n",
    "<img src=\"figs/02-2th_Technical_Meeting_U-net/01-study_area.png\">"
   ]
  },
  {
   "cell_type": "code",
   "execution_count": null,
   "metadata": {},
   "outputs": [],
   "source": [
    "file_url = 'https://www.lapig.iesa.ufg.br/lapig/nextgenmap-data/tutorial-sessions/02-2th_Technical_Meeting_U-net/input_images.zip'\n",
    "filename = 'input_images.zip'\n",
    "\n",
    "nexutil.download_extract_zipfile(file_url, filename)\n",
    "nexutil.import_repository('dl-semantic-segmentation-master/src/')"
   ]
  },
  {
   "cell_type": "markdown",
   "metadata": {},
   "source": [
    "## Data Exploration and Normalization"
   ]
  },
  {
   "cell_type": "markdown",
   "metadata": {},
   "source": [
    "Lets check those two files:"
   ]
  },
  {
   "cell_type": "code",
   "execution_count": null,
   "metadata": {},
   "outputs": [],
   "source": [
    "nexutil.image_info('input_images/SD-22-Z-C-alfa_2-1.tif')"
   ]
  },
  {
   "cell_type": "code",
   "execution_count": null,
   "metadata": {},
   "outputs": [],
   "source": [
    "nexutil.image_info('input_images/SD-22-Z-C-alfa_2-2.tif')"
   ]
  },
  {
   "cell_type": "markdown",
   "metadata": {},
   "source": [
    "Let's go visualization !"
   ]
  },
  {
   "cell_type": "markdown",
   "metadata": {},
   "source": [
    "Image from 11/2017:"
   ]
  },
  {
   "cell_type": "code",
   "execution_count": null,
   "metadata": {},
   "outputs": [],
   "source": [
    "nexutil.vis_image('input_images/SD-22-Z-C-alfa_2-1.tif', bands=[1,2,3])"
   ]
  },
  {
   "cell_type": "markdown",
   "metadata": {},
   "source": [
    "Image is from 03/2018:"
   ]
  },
  {
   "cell_type": "code",
   "execution_count": null,
   "metadata": {},
   "outputs": [],
   "source": [
    "nexutil.vis_image('input_images/SD-22-Z-C-alfa_2-1.tif', bands=[5,6,7])"
   ]
  },
  {
   "cell_type": "markdown",
   "metadata": {},
   "source": [
    "Reference data for cattle drinking fountains:"
   ]
  },
  {
   "cell_type": "code",
   "execution_count": null,
   "metadata": {},
   "outputs": [],
   "source": [
    "nexutil.vis_image('input_images/SD-22-Z-C-alfa_2-1.tif', bands=[8])"
   ]
  },
  {
   "cell_type": "markdown",
   "metadata": {},
   "source": [
    "Let's calculate the basic statistics:"
   ]
  },
  {
   "cell_type": "code",
   "execution_count": null,
   "metadata": {},
   "outputs": [],
   "source": [
    "images = [\n",
    "    'input_images/SD-22-Z-C-alfa_2-1.tif',\n",
    "    'input_images/SD-22-Z-C-alfa_2-2.tif'\n",
    "]\n",
    "nexutil.stats_from_files(images,-10.0)"
   ]
  },
  {
   "cell_type": "markdown",
   "metadata": {},
   "source": [
    "Those images was normalized using [normalize_image.py](https://github.com/NexGenMap/dl-semantic-segmentation/blob/master/src/normalization/normalize_image.py) and the mathematical formula [(pixel_value - median) / stdDev]. It was performed using the follow command (to understand more about this subject [click here](http://localhost:8888/notebooks/01-EEUS2018_NexGenMap.ipynb#Standardizing))"
   ]
  },
  {
   "cell_type": "raw",
   "metadata": {},
   "source": [
    "# python3 normalize_image.py SD-22-Z-C-alfa_2-11.tif SD-22-Z-C-2018-03.tif \\\n",
    "SD-22-Z-C-alfa_2-11_cattle_drink_fount.tif SD-22-Z-C_normalized.img"
   ]
  },
  {
   "cell_type": "markdown",
   "metadata": {},
   "source": [
    "## U-net model\n",
    "The module run is the main module of repository [dl-semantic-segmentation](https://github.com/NexGenMap/dl-semantic-segmentation). Let's import it."
   ]
  },
  {
   "cell_type": "code",
   "execution_count": 3,
   "metadata": {},
   "outputs": [],
   "source": [
    "import run"
   ]
  },
  {
   "cell_type": "markdown",
   "metadata": {},
   "source": [
    "Our U-net implementation has the follow parameters:\n",
    "* Input data:\n",
    "    * **n_classes**: number of classes of the reference data *[default value = 2]*\n",
    "    * **n_input_bands**: number of bands of the input raster file *[default value = 9]*\n",
    "    * **nodata_value**: nodata value of the input raster file *[default value = -10]*\n",
    "* Data augmentation:\n",
    "    * **chip_offsets**: offset, in percentage, of start position of chip generation approach *[default value = [(0,0), (50,50)]]*\n",
    "\t* **chip_rotate**: rotate the chip considering the angles 90°, 180°, and 270° degrees *[default value = False]*\n",
    "\t* **chip_flip**: flip the orders of input raster bands *[default value = True]*\n",
    "* Train:\n",
    "    * **model_dir**: directory that will maintain the trained model and the Tensorboard logs *[default value = 'logs_bebedouros']*\n",
    "    * **seed**: seed that will be used in all random methods *[default value = 1989]*\n",
    "    * **pad_size**: pad size of output chip in relation to the input chip *[default value = 93]*\n",
    "    * **chip_size**: size of the output chip *[default value = 100]*\n",
    "    * **batch_size**: batch size of train *[default value = 32]*\n",
    "    * **num_epochs**: number of epochs of train *[default value = 200]*\n",
    "    * **dropout_rate**: dropout rate of before output layer *[default value = 0.5]*\n",
    "    * **learning_rate**: learning rate of train *[default value = 0.00001]*\n",
    "    * **tensorboard_maxoutput**: number of images that will show in the Tensorboard *[default value = 2]*\n",
    "    * **l2_regularizer**: L2 regularizer rate of all convolutional layers *[default value = 0.5]*"
   ]
  },
  {
   "cell_type": "markdown",
   "metadata": {},
   "source": [
    "Let's check them:"
   ]
  },
  {
   "cell_type": "code",
   "execution_count": null,
   "metadata": {},
   "outputs": [],
   "source": [
    "print(run.params)"
   ]
  },
  {
   "cell_type": "markdown",
   "metadata": {},
   "source": [
    "Let's train only 1 epoch:"
   ]
  },
  {
   "cell_type": "code",
   "execution_count": null,
   "metadata": {},
   "outputs": [],
   "source": [
    "img_input_path = 'input_images/SD-22-Z-C-alfa_2-1.tif'\n",
    "run.params['num_epochs'] = 1\n",
    "\n",
    "# Disable data augmentation if you don't have GPU\n",
    "run.params['chip_offsets'] = [(0,0)]\n",
    "run.params['chip_rotate'] = False\n",
    "run.params['chip_flip'] = False\n",
    "\n",
    "run.train(img_input_path, run.params)"
   ]
  },
  {
   "cell_type": "markdown",
   "metadata": {},
   "source": [
    "Let's evaluate the classification performance with test dataset (to understand more about this subject [click here](http://localhost:8888/notebooks/01-EEUS2018_NexGenMap.ipynb#Evaluate)):"
   ]
  },
  {
   "cell_type": "code",
   "execution_count": null,
   "metadata": {},
   "outputs": [],
   "source": [
    "run.evaluate(img_input_path, run.params)"
   ]
  },
  {
   "cell_type": "markdown",
   "metadata": {},
   "source": [
    "In general, training a U-NET, or any other neural network, takes time. To avoid this \"boring\" task you can use a pre-trained model, that was trained with data augmentation result, in a multi-GPU server, for almost 10 hour."
   ]
  },
  {
   "cell_type": "code",
   "execution_count": null,
   "metadata": {},
   "outputs": [],
   "source": [
    "file_url = 'https://www.lapig.iesa.ufg.br/lapig/nextgenmap-data/tutorial-sessions/02-2th_Technical_Meeting_U-net/trained_model_200e.zip'\n",
    "filename = 'trained_model_200e.zip'\n",
    "\n",
    "nexutil.download_extract_zipfile(file_url, filename)"
   ]
  },
  {
   "cell_type": "markdown",
   "metadata": {},
   "source": [
    "Let's evaluate again:"
   ]
  },
  {
   "cell_type": "code",
   "execution_count": 4,
   "metadata": {},
   "outputs": [],
   "source": [
    "img_input_path = 'input_images/SD-22-Z-C-alfa_2-1.tif'\n",
    "run.params['model_dir'] = 'trained_model_200e'\n",
    "run.evaluate(img_input_path, run.params)"
   ]
  },
  {
   "cell_type": "markdown",
   "metadata": {},
   "source": [
    "After check the classification metrics, and get good results, you will predict all the image. It will permit evaluate the spatial consistency of output."
   ]
  },
  {
   "cell_type": "code",
   "execution_count": 9,
   "metadata": {},
   "outputs": [
    {
     "name": "stdout",
     "output_type": "stream",
     "text": [
      "INFO:tensorflow:Using default config.\n",
      "INFO:tensorflow:Using config: {'_model_dir': 'trained_model_200e', '_tf_random_seed': None, '_save_summary_steps': 100, '_save_checkpoints_steps': None, '_save_checkpoints_secs': 600, '_session_config': None, '_keep_checkpoint_max': 5, '_keep_checkpoint_every_n_hours': 10000, '_log_step_count_steps': 100, '_service': None, '_cluster_spec': <tensorflow.python.training.server_lib.ClusterSpec object at 0x7f256ee5ab00>, '_task_type': 'worker', '_task_id': 0, '_global_id_in_cluster': 0, '_master': '', '_evaluation_master': '', '_is_chief': True, '_num_ps_replicas': 0, '_num_worker_replicas': 1}\n",
      "Predicting image input_images/SD-22-Z-C-alfa_2-2.tif 0.9940828402366864%\n",
      "INFO:tensorflow:Calling model_fn.\n",
      "WARNING:tensorflow:From /usr/local/lib/python3.6/site-packages/tensorflow/contrib/learn/python/learn/datasets/base.py:198: retry (from tensorflow.contrib.learn.python.learn.datasets.base) is deprecated and will be removed in a future version.\n",
      "Instructions for updating:\n",
      "Use the retry module or similar alternatives.\n",
      "INFO:tensorflow:Done calling model_fn.\n",
      "INFO:tensorflow:Graph was finalized.\n",
      "INFO:tensorflow:Restoring parameters from trained_model_200e/model.ckpt-50310\n",
      "INFO:tensorflow:Running local_init_op.\n",
      "INFO:tensorflow:Done running local_init_op.\n"
     ]
    }
   ],
   "source": [
    "img_input_path = 'input_images/SD-22-Z-C-alfa_2-2.tif'\n",
    "img_output_path = 'input_images/SD-22-Z-C-alfa_2-2_predict.tif'\n",
    "\n",
    "run.predict(img_input_path, run.params, img_output_path)"
   ]
  },
  {
   "cell_type": "code",
   "execution_count": 10,
   "metadata": {},
   "outputs": [
    {
     "data": {
      "image/png": "[encoded data removed]",
      "text/plain": [
       "<Figure size 1080x720 with 1 Axes>"
      ]
     },
     "metadata": {},
     "output_type": "display_data"
    }
   ],
   "source": [
    "nexutil.vis_image('input_images/SD-22-Z-C-alfa_2-2_predict.tif', bands=[0])"
   ]
  },
  {
   "cell_type": "code",
   "execution_count": 11,
   "metadata": {},
   "outputs": [
    {
     "data": {
      "image/png": "[encoded data removed]",
      "text/plain": [
       "<Figure size 1080x720 with 1 Axes>"
      ]
     },
     "metadata": {},
     "output_type": "display_data"
    }
   ],
   "source": [
    "nexutil.vis_image('input_images/SD-22-Z-C-alfa_2-2.tif', bands=[8])"
   ]
  }
 ],
 "metadata": {
  "kernelspec": {
   "display_name": "Python 3",
   "language": "python",
   "name": "python3"
  },
  "language_info": {
   "codemirror_mode": {
    "name": "ipython",
    "version": 3
   },
   "file_extension": ".py",
   "mimetype": "text/x-python",
   "name": "python",
   "nbconvert_exporter": "python",
   "pygments_lexer": "ipython3",
   "version": "3.6.5"
  }
 },
 "nbformat": 4,
 "nbformat_minor": 2
}
